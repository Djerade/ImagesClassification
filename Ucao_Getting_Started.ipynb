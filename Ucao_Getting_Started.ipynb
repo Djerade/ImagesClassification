{
  "cells": [
    {
      "cell_type": "markdown",
      "metadata": {
        "id": "P5hnPowYi8zF"
      },
      "source": [
        "# 1. Install Dependencies and Setup"
      ]
    },
    {
      "cell_type": "code",
      "execution_count": 8,
      "metadata": {
        "tags": [],
        "id": "8D4ZzaPji8zM"
      },
      "outputs": [],
      "source": [
        "#!pip install tensorflow tensorflow-gpu opencv-python matplotlib"
      ]
    },
    {
      "cell_type": "code",
      "source": [
        "from google.colab import drive\n",
        "drive.mount('/content/gdrive')"
      ],
      "metadata": {
        "colab": {
          "base_uri": "https://localhost:8080/"
        },
        "id": "yZC6tHlElbkb",
        "outputId": "562eee64-ad06-4026-ed92-7140cda400a2"
      },
      "execution_count": 9,
      "outputs": [
        {
          "output_type": "stream",
          "name": "stdout",
          "text": [
            "Drive already mounted at /content/gdrive; to attempt to forcibly remount, call drive.mount(\"/content/gdrive\", force_remount=True).\n"
          ]
        }
      ]
    },
    {
      "cell_type": "code",
      "source": [
        "%%capture\n",
        "!pip install tensorflow\n"
      ],
      "metadata": {
        "id": "P0WJFGLalC6g"
      },
      "execution_count": 9,
      "outputs": []
    },
    {
      "cell_type": "code",
      "source": [
        "import tensorflow as tf\n"
      ],
      "metadata": {
        "id": "M14Ak91dkRZO"
      },
      "execution_count": 9,
      "outputs": []
    },
    {
      "cell_type": "code",
      "execution_count": 9,
      "metadata": {
        "tags": [],
        "id": "VKUgeUOii8zP"
      },
      "outputs": [],
      "source": []
    },
    {
      "cell_type": "markdown",
      "metadata": {
        "id": "nzsqDT1Fi8zV"
      },
      "source": [
        "# 2. Remove dodgy images"
      ]
    },
    {
      "cell_type": "code",
      "execution_count": 10,
      "metadata": {
        "id": "tAOV3Sw1i8zX"
      },
      "outputs": [],
      "source": [
        "import cv2\n",
        "import imghdr"
      ]
    },
    {
      "cell_type": "code",
      "execution_count": 11,
      "metadata": {
        "id": "JPwgy37Fi8zZ"
      },
      "outputs": [],
      "source": [
        "data_dir = '/content/gdrive/MyDrive/Colab Notebooks/ImageClassification/data'"
      ]
    },
    {
      "cell_type": "code",
      "execution_count": 12,
      "metadata": {
        "id": "4RMGfqSAi8zc"
      },
      "outputs": [],
      "source": [
        "image_exts = ________________________________"
      ]
    },
    {
      "cell_type": "code",
      "source": [
        "import os"
      ],
      "metadata": {
        "id": "c6m8hLX7dahx"
      },
      "execution_count": 13,
      "outputs": []
    },
    {
      "cell_type": "code",
      "execution_count": 14,
      "metadata": {
        "tags": [],
        "id": "mRZB9iX_i8zd"
      },
      "outputs": [],
      "source": [
        "for image_class in os.listdir(data_dir):\n",
        "    for image in os.listdir(os.path.join(data_dir, image_class)):\n",
        "        image_path = os.path.join(data_dir, image_class, image)\n",
        "        try:\n",
        "            img = cv2.imread(image_path)\n",
        "            tip = imghdr.what(image_path)\n",
        "            if tip not in image_exts:\n",
        "                print('Image not in ext list {}'.format(image_path))\n",
        "                os.remove(image_path)\n",
        "        except Exception as e:\n",
        "            print('Issue with image {}'.format(image_path))\n",
        "            # os.remove(image_path)"
      ]
    },
    {
      "cell_type": "markdown",
      "metadata": {
        "id": "sq7GeOmHi8zf"
      },
      "source": [
        "# 3. Load Data"
      ]
    },
    {
      "cell_type": "code",
      "execution_count": 15,
      "metadata": {
        "id": "zvCcFOg0i8zg"
      },
      "outputs": [],
      "source": [
        "import numpy as np\n",
        "from matplotlib import pyplot as plt"
      ]
    },
    {
      "cell_type": "code",
      "source": [
        "\n"
      ],
      "metadata": {
        "id": "4HvPu-IL7wSw",
        "colab": {
          "base_uri": "https://localhost:8080/"
        },
        "outputId": "6612a891-2f31-48fc-82fe-a5fccf57db88"
      },
      "execution_count": 16,
      "outputs": [
        {
          "output_type": "stream",
          "name": "stdout",
          "text": [
            "Object `tf.keras.utils.image_dataset_from_directory` not found.\n"
          ]
        }
      ]
    },
    {
      "cell_type": "code",
      "execution_count": null,
      "metadata": {
        "id": "rUHUXgQ0i8zh"
      },
      "outputs": [],
      "source": [
        "data = tf.keras.utils.image_dataset_from_directory(________)"
      ]
    },
    {
      "cell_type": "code",
      "execution_count": null,
      "metadata": {
        "tags": [],
        "id": "-IxJKVr3i8zk"
      },
      "outputs": [],
      "source": [
        "fig, ax = plt.subplots(ncols=4, figsize=(20,20))\n",
        "for idx, img in enumerate(batch[0][:4]):\n",
        "    ax[idx].imshow(img.astype(int))\n",
        "    ax[idx].title.set_text(batch[1][idx])"
      ]
    },
    {
      "cell_type": "code",
      "source": [
        "#print(\"Vraies étiquettes :\", batch[1][:4].numpy())  # Vérifiez si les labels sont bien 0 (Happy) et 1 (Sad)\n",
        "print(\"Vraies étiquettes :\", batch[1][:4])\n"
      ],
      "metadata": {
        "id": "f39VzL3HJ1u6"
      },
      "execution_count": null,
      "outputs": []
    },
    {
      "cell_type": "markdown",
      "metadata": {
        "id": "A2YM2vtpi8zl"
      },
      "source": [
        "# 4. Scale Data"
      ]
    },
    {
      "cell_type": "code",
      "execution_count": null,
      "metadata": {
        "id": "AOay1Bo3i8zm"
      },
      "outputs": [],
      "source": [
        "________________"
      ]
    },
    {
      "cell_type": "code",
      "execution_count": null,
      "metadata": {
        "scrolled": true,
        "tags": [],
        "id": "z78qt8-Zi8zm"
      },
      "outputs": [],
      "source": [
        "______________"
      ]
    },
    {
      "cell_type": "markdown",
      "metadata": {
        "id": "5LrLVBeUi8zn"
      },
      "source": [
        "# 5. Split Data"
      ]
    },
    {
      "cell_type": "code",
      "execution_count": null,
      "metadata": {
        "id": "RMV7K4Yhi8zn"
      },
      "outputs": [],
      "source": [
        "train_size = ___________\n",
        "val_size = ______________\n",
        "test_size = _____________"
      ]
    },
    {
      "cell_type": "code",
      "execution_count": null,
      "metadata": {
        "id": "OrO4fXVki8zn"
      },
      "outputs": [],
      "source": [
        "train_size"
      ]
    },
    {
      "cell_type": "code",
      "execution_count": null,
      "metadata": {
        "id": "Yi_nFxTOi8zo"
      },
      "outputs": [],
      "source": [
        "train = ______________________\n",
        "val = _________________________\n",
        "test = __________________"
      ]
    },
    {
      "cell_type": "markdown",
      "metadata": {
        "id": "1-bdbnbEi8zo"
      },
      "source": [
        "# 6. Build Deep Learning Model"
      ]
    },
    {
      "cell_type": "code",
      "execution_count": null,
      "metadata": {
        "id": "hZkguoj0i8zp"
      },
      "outputs": [],
      "source": [
        "train"
      ]
    },
    {
      "cell_type": "code",
      "source": [
        "#!pip install tensorflow\n"
      ],
      "metadata": {
        "id": "Ch6-F7AzAtIy"
      },
      "execution_count": null,
      "outputs": []
    },
    {
      "cell_type": "code",
      "execution_count": null,
      "metadata": {
        "id": "lLOAAxtzi8zp"
      },
      "outputs": [],
      "source": [
        "from tensorflow.keras.models import Sequential\n",
        "from tensorflow.keras.layers import Conv2D, MaxPooling2D, Dense, Flatten, Dropout"
      ]
    },
    {
      "cell_type": "code",
      "execution_count": null,
      "metadata": {
        "id": "kjHjRLqTi8zp"
      },
      "outputs": [],
      "source": [
        "model = Sequential()"
      ]
    },
    {
      "cell_type": "code",
      "execution_count": null,
      "metadata": {
        "id": "sVdeDXDOi8zq"
      },
      "outputs": [],
      "source": [
        "model.add(Conv2D(16, (3,3), 1, activation='relu', input_shape=(256,256,3))) # 1 --> Indique un pas de convolution (stride = 1).\n",
        "model.add(MaxPooling2D())\n",
        "model.add(Conv2D(32, (3,3), 1, activation='relu'))\n",
        "model.add(MaxPooling2D())\n",
        "model.add(Conv2D(16, (3,3), 1, activation='relu'))\n",
        "model.add(MaxPooling2D())\n",
        "model.add(Flatten())\n",
        "model.add(Dense(256, activation='relu'))\n",
        "model.add(Dense(1, activation='sigmoid'))"
      ]
    },
    {
      "cell_type": "code",
      "execution_count": null,
      "metadata": {
        "id": "Gnr5S-GRi8zq"
      },
      "outputs": [],
      "source": [
        "model.compile('adam', loss=tf.losses.BinaryCrossentropy(), metrics=['accuracy'])"
      ]
    },
    {
      "cell_type": "code",
      "execution_count": null,
      "metadata": {
        "tags": [],
        "id": "8mfxsNa2i8zr"
      },
      "outputs": [],
      "source": [
        "model.summary()"
      ]
    },
    {
      "cell_type": "markdown",
      "metadata": {
        "id": "lxU5AdZ9i8zr"
      },
      "source": [
        "# 7. Train"
      ]
    },
    {
      "cell_type": "code",
      "execution_count": null,
      "metadata": {
        "id": "PdBQmHIki8zs"
      },
      "outputs": [],
      "source": [
        "logdir='logs'"
      ]
    },
    {
      "cell_type": "code",
      "execution_count": null,
      "metadata": {
        "id": "vw_HPI8Ai8zs"
      },
      "outputs": [],
      "source": [
        "tensorboard_callback = _______________________________"
      ]
    },
    {
      "cell_type": "code",
      "execution_count": null,
      "metadata": {
        "scrolled": true,
        "tags": [],
        "id": "dg1ccy-ti8zt"
      },
      "outputs": [],
      "source": [
        "hist = __________________________________"
      ]
    },
    {
      "cell_type": "markdown",
      "metadata": {
        "id": "4g1-lZ-Ci8zt"
      },
      "source": [
        "# 8. Plot Performance"
      ]
    },
    {
      "cell_type": "code",
      "execution_count": null,
      "metadata": {
        "id": "Ihx-0Q13i8zu"
      },
      "outputs": [],
      "source": [
        "__________________"
      ]
    },
    {
      "cell_type": "code",
      "execution_count": null,
      "metadata": {
        "id": "LSyDZfKki8zv"
      },
      "outputs": [],
      "source": [
        "_______________"
      ]
    },
    {
      "cell_type": "markdown",
      "metadata": {
        "id": "nWpEGeBPi8zw"
      },
      "source": [
        "# 9. Evaluate"
      ]
    },
    {
      "cell_type": "code",
      "execution_count": null,
      "metadata": {
        "id": "b7QAJWEMi8z5"
      },
      "outputs": [],
      "source": [
        "from tensorflow.keras.metrics import Precision, Recall, BinaryAccuracy"
      ]
    },
    {
      "cell_type": "code",
      "execution_count": null,
      "metadata": {
        "id": "j7cFGKQQi8z6"
      },
      "outputs": [],
      "source": [
        "pre = ____________\n",
        "re = __________\n",
        "acc = ______________"
      ]
    },
    {
      "cell_type": "code",
      "execution_count": null,
      "metadata": {
        "id": "kKPXUFIQi8z6"
      },
      "outputs": [],
      "source": [
        "for batch in test.as_numpy_iterator():\n",
        "    X, y = batch\n",
        "    yhat = model.predict(X)\n",
        "    pre.update_state(y, yhat)\n",
        "    re.update_state(y, yhat)\n",
        "    acc.update_state(y, yhat)"
      ]
    },
    {
      "cell_type": "code",
      "execution_count": null,
      "metadata": {
        "id": "R7D8jW-mi8z7"
      },
      "outputs": [],
      "source": []
    },
    {
      "cell_type": "code",
      "source": [
        "print(pre.result().numpy(), re.result().numpy(), acc.result().numpy())\n"
      ],
      "metadata": {
        "id": "DQYFBSDdtgxb"
      },
      "execution_count": null,
      "outputs": []
    },
    {
      "cell_type": "markdown",
      "metadata": {
        "id": "Pbx14qzDi8z7"
      },
      "source": [
        "# 10. Test"
      ]
    },
    {
      "cell_type": "code",
      "execution_count": null,
      "metadata": {
        "id": "qnBQ19fdi8z8"
      },
      "outputs": [],
      "source": [
        "import cv2"
      ]
    },
    {
      "cell_type": "code",
      "source": [],
      "metadata": {
        "id": "kixgxMAwxPTD"
      },
      "execution_count": null,
      "outputs": []
    },
    {
      "cell_type": "code",
      "execution_count": null,
      "metadata": {
        "id": "fr792Pmfi8z8"
      },
      "outputs": [],
      "source": [
        "\n",
        "img = cv2.imread('/content/gdrive/MyDrive/Colab Notebooks/ImageClassification/happy.jpg')\n",
        "#plt.imshow(img)\n",
        "plt.imshow(cv2.cvtColor(img, cv2.COLOR_BGR2RGB))\n",
        "plt.show()"
      ]
    },
    {
      "cell_type": "code",
      "source": [
        "img = cv2.cvtColor(img, cv2.COLOR_BGR2RGB)\n",
        "\n",
        "# Redimensionner l'image avec TensorFlow\n",
        "_________________________________\n",
        "\n",
        "# Afficher correctement l'image\n",
        "________________________________  # Utiliser \"uint8\" pour éviter des erreurs d'affichage\n",
        "plt.axis(\"off\")  # Supprimer les axes pour un meilleur rendu\n",
        "plt.show()"
      ],
      "metadata": {
        "id": "jVWucWLyVc3r"
      },
      "execution_count": null,
      "outputs": []
    },
    {
      "cell_type": "code",
      "execution_count": null,
      "metadata": {
        "id": "qjUPINTGi8z9"
      },
      "outputs": [],
      "source": [
        "# resize = tf.image.resize(img, (256,256))\n",
        "# plt.imshow(resize.numpy().astype(\"uint8\"))\n",
        "# plt.show()"
      ]
    },
    {
      "cell_type": "code",
      "source": [
        "resize.shape"
      ],
      "metadata": {
        "id": "oMgIZU0n1exB"
      },
      "execution_count": null,
      "outputs": []
    },
    {
      "cell_type": "code",
      "source": [
        "np.expand_dims(resize,0).shape"
      ],
      "metadata": {
        "id": "inG-e_hH1GIO"
      },
      "execution_count": null,
      "outputs": []
    },
    {
      "cell_type": "code",
      "execution_count": null,
      "metadata": {
        "id": "3cDMiwTJi8z-"
      },
      "outputs": [],
      "source": [
        "yhat = model.predict(np.expand_dims(resize/255, 0))"
      ]
    },
    {
      "cell_type": "code",
      "execution_count": null,
      "metadata": {
        "id": "x93a9RNpi8z-"
      },
      "outputs": [],
      "source": [
        "yhat"
      ]
    },
    {
      "cell_type": "code",
      "source": [
        "#yhat = model.predict(batch[0][:4])  # Prédictions sur 4 images\n",
        "#print(\"Prédictions brutes :\", yhat.flatten())  # Afficher les scores entre 0 et 1\n"
      ],
      "metadata": {
        "id": "2rfb1xZANoGp"
      },
      "execution_count": null,
      "outputs": []
    },
    {
      "cell_type": "code",
      "source": [
        "# for idx, score in enumerate(yhat.flatten()):\n",
        "#     predicted_class = \"Sad\" if score > 0.5 else \"Happy\"\n",
        "#     print(f\"Image {idx+1} : Score={score:.4f} → Prédiction : {predicted_class}\")\n"
      ],
      "metadata": {
        "id": "fP0pI01MOitu"
      },
      "execution_count": null,
      "outputs": []
    },
    {
      "cell_type": "code",
      "execution_count": null,
      "metadata": {
        "id": "-EXoVCOAi8z_"
      },
      "outputs": [],
      "source": [
        "if yhat > 0.5:\n",
        "    print(f'Predicted class is Sad')\n",
        "else:\n",
        "    print(f'Predicted class is Happy')"
      ]
    },
    {
      "cell_type": "markdown",
      "metadata": {
        "id": "Iv6TiAZ1i8z_"
      },
      "source": [
        "# 11. Save the Model"
      ]
    },
    {
      "cell_type": "code",
      "execution_count": null,
      "metadata": {
        "id": "RfFo5sidi80A"
      },
      "outputs": [],
      "source": [
        "from tensorflow.keras.models import load_model"
      ]
    },
    {
      "cell_type": "code",
      "source": [
        "# Sauvegarde du modèle dans Google Drive\n",
        "model.save(\"/content/gdrive/MyDrive/Colab Notebooks/ImageClassification/imageclassifier.keras\")\n"
      ],
      "metadata": {
        "id": "LnGxV3ZRanz1"
      },
      "execution_count": null,
      "outputs": []
    },
    {
      "cell_type": "code",
      "execution_count": null,
      "metadata": {
        "id": "pAU7SObJi80A"
      },
      "outputs": [],
      "source": []
    },
    {
      "cell_type": "code",
      "execution_count": null,
      "metadata": {
        "id": "f0i_Xzn2i80B"
      },
      "outputs": [],
      "source": [
        "new_model = load_model('/content/gdrive/MyDrive/Colab Notebooks/ImageClassification/imageclassifier.keras')"
      ]
    },
    {
      "cell_type": "code",
      "execution_count": null,
      "metadata": {
        "id": "8WKl1ylri80C"
      },
      "outputs": [],
      "source": [
        "new_model.predict(np.expand_dims(resize/255, 0))"
      ]
    }
  ],
  "metadata": {
    "kernelspec": {
      "display_name": "started",
      "language": "python",
      "name": "started"
    },
    "language_info": {
      "codemirror_mode": {
        "name": "ipython",
        "version": 3
      },
      "file_extension": ".py",
      "mimetype": "text/x-python",
      "name": "python",
      "nbconvert_exporter": "python",
      "pygments_lexer": "ipython3",
      "version": "3.7.3"
    },
    "colab": {
      "provenance": []
    }
  },
  "nbformat": 4,
  "nbformat_minor": 0
}